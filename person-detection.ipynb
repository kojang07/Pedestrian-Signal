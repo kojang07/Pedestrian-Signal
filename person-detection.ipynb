{
 "cells": [
  {
   "cell_type": "code",
   "execution_count": 83,
   "id": "ea48c6dc-8477-4088-94ce-062ea9e6e3fa",
   "metadata": {},
   "outputs": [],
   "source": [
    "import openvino as ov\n",
    "\n",
    "import serial\n",
    "import time"
   ]
  },
  {
   "cell_type": "code",
   "execution_count": 84,
   "id": "f185f65d-d8b4-4a2f-832e-9ee30b4e81be",
   "metadata": {},
   "outputs": [],
   "source": [
    "py_serial = serial.Serial(\n",
    "    # Window\n",
    "    port='COM4',\n",
    "    # 보드 레이트 (통신 속도)\n",
    "    baudrate=9600,\n",
    ")"
   ]
  },
  {
   "cell_type": "code",
   "execution_count": 85,
   "id": "ca42c89c-0296-4329-8780-e233fa941a56",
   "metadata": {},
   "outputs": [
    {
     "name": "stdout",
     "output_type": "stream",
     "text": [
      "Input layer shape:  [1,3,320,544]\n",
      "Output layer shape: [1,1,200,7]\n"
     ]
    }
   ],
   "source": [
    "\n",
    "core = ov.Core()\n",
    "\n",
    "model = core.read_model(model=\"model/person-detection-retail-0013.xml\")\n",
    "person_model = core.compile_model(model=model, device_name=\"CPU\")\n",
    "\n",
    "person_input_layer = person_model.input(0)\n",
    "person_output_layer = person_model.output(0)\n",
    "print(\"Input layer shape: \", person_input_layer.shape)\n",
    "print(\"Output layer shape:\", person_output_layer.shape)"
   ]
  },
  {
   "cell_type": "code",
   "execution_count": 86,
   "id": "feebf968-0a6c-4201-94c5-4c2b9cdd87f3",
   "metadata": {},
   "outputs": [],
   "source": [
    "import cv2\n",
    "import numpy as np\n",
    "\n",
    "frame = cv2.imread(\"images/person.jpg\")\n",
    "\n",
    "resized_frame = cv2.resize(src=frame, dsize=(544, 320)) \n",
    "transposed_frame = resized_frame.transpose(2, 0, 1)\n",
    "input_frame = np.expand_dims(transposed_frame, 0)"
   ]
  },
  {
   "cell_type": "code",
   "execution_count": 87,
   "id": "4e6bf860-3115-470d-ae27-cd59cea008ee",
   "metadata": {},
   "outputs": [],
   "source": [
    "person_output = person_model([input_frame])[person_output_layer]"
   ]
  },
  {
   "cell_type": "code",
   "execution_count": 90,
   "id": "2a50886c-2284-4529-9fc8-64f4bb2575f4",
   "metadata": {},
   "outputs": [],
   "source": [
    "def DrawBoundingBoxes(output, image, conf):\n",
    "\n",
    "    canvas = image.copy()\n",
    "    h,w,_ = canvas.shape \n",
    "\n",
    "    predictions = output[0][0]            # 하위 집합 데이터 프레임\n",
    "    confidence = predictions[:,2]         # conf 값 가져오기 [image_id, label, conf, x_min, y_min, x_max, y_max]\n",
    "\n",
    "    top_predictions = predictions[(confidence>conf)]         # 임계값보다 큰 conf 값을 가진 예측만 선택\n",
    "\n",
    "    // 사람의 수가 5명 이상이면 아두이도 LED를 초록색으로 변경\n",
    "    if len(top_predictions) >= 5 :\n",
    "        print(\"Green Light on\")\n",
    "        py_serial.write(b'b')   \n",
    "    else: \n",
    "        print(\"Red Light on\")\n",
    "        py_serial.write(b'a')\n",
    "    \n",
    "    for detection in top_predictions:\n",
    "        box = detection[3:7] * np.array([w, h, w, h]) # 상자 위치 결정\n",
    "        (xmin, ymin, xmax, ymax) = box.astype(\"int\")  # xmin, ymin, xmax, ymax에 상자 위치 값 지정\n",
    "\n",
    "        cv2.rectangle(canvas, (xmin, ymin), (xmax, ymax), (0, 0, 255), 2)       # 사각형 만들기\n",
    "    \n",
    "    return canvas"
   ]
  },
  {
   "cell_type": "code",
   "execution_count": 91,
   "id": "b38f2ad2-8fd3-4284-8115-015bc3141349",
   "metadata": {},
   "outputs": [
    {
     "name": "stdout",
     "output_type": "stream",
     "text": [
      "Green Light on\n"
     ]
    }
   ],
   "source": [
    "canvas = DrawBoundingBoxes(person_output, frame, conf=0.5)\n",
    "\n",
    "cv2.imshow(\"Person detection\", canvas)\n",
    "\n",
    "cv2.waitKey(0)\n",
    "cv2.destroyAllWindows()"
   ]
  },
  {
   "cell_type": "code",
   "execution_count": 92,
   "id": "b2cc91f8-f85c-439e-a89c-6315a496757e",
   "metadata": {},
   "outputs": [
    {
     "name": "stdout",
     "output_type": "stream",
     "text": [
      "Green Light on\n",
      "Green Light on\n",
      "Green Light on\n",
      "Green Light on\n",
      "Green Light on\n",
      "Green Light on\n",
      "Green Light on\n",
      "Green Light on\n",
      "Green Light on\n",
      "Green Light on\n",
      "Green Light on\n",
      "Green Light on\n",
      "Green Light on\n",
      "Green Light on\n",
      "Green Light on\n",
      "Green Light on\n",
      "Green Light on\n",
      "Green Light on\n",
      "Green Light on\n",
      "Green Light on\n",
      "Green Light on\n",
      "Green Light on\n",
      "Green Light on\n",
      "Green Light on\n",
      "Green Light on\n",
      "Green Light on\n",
      "Green Light on\n",
      "Green Light on\n",
      "Green Light on\n",
      "Green Light on\n",
      "Green Light on\n",
      "Green Light on\n",
      "Green Light on\n",
      "Green Light on\n",
      "Green Light on\n",
      "Green Light on\n",
      "Green Light on\n",
      "Green Light on\n",
      "Green Light on\n",
      "Green Light on\n",
      "Green Light on\n",
      "Green Light on\n",
      "Green Light on\n",
      "Green Light on\n",
      "Green Light on\n",
      "Green Light on\n",
      "Green Light on\n",
      "Green Light on\n",
      "Green Light on\n",
      "Green Light on\n",
      "Green Light on\n",
      "Green Light on\n",
      "Green Light on\n",
      "Green Light on\n",
      "Green Light on\n",
      "Green Light on\n",
      "Green Light on\n",
      "Green Light on\n",
      "Green Light on\n",
      "Green Light on\n",
      "Green Light on\n",
      "Green Light on\n",
      "Green Light on\n",
      "Green Light on\n",
      "Green Light on\n",
      "Green Light on\n",
      "Green Light on\n",
      "Green Light on\n",
      "Green Light on\n",
      "Green Light on\n",
      "Green Light on\n",
      "Green Light on\n",
      "Green Light on\n",
      "Green Light on\n",
      "Green Light on\n",
      "Green Light on\n",
      "Green Light on\n",
      "Green Light on\n",
      "Green Light on\n",
      "Green Light on\n",
      "Green Light on\n",
      "Green Light on\n",
      "Green Light on\n",
      "Green Light on\n",
      "Green Light on\n",
      "Green Light on\n",
      "Green Light on\n",
      "Green Light on\n",
      "Green Light on\n",
      "Green Light on\n",
      "Green Light on\n",
      "Green Light on\n",
      "Green Light on\n",
      "Green Light on\n",
      "Green Light on\n",
      "Green Light on\n",
      "Green Light on\n",
      "Green Light on\n",
      "Green Light on\n",
      "Green Light on\n",
      "Green Light on\n",
      "Green Light on\n",
      "Green Light on\n",
      "Green Light on\n",
      "Green Light on\n",
      "Green Light on\n",
      "Green Light on\n",
      "Green Light on\n",
      "Green Light on\n",
      "Green Light on\n",
      "Green Light on\n",
      "사용자 입력에 의해 종료\n"
     ]
    }
   ],
   "source": [
    "import cv2\n",
    "cap = cv2.VideoCapture('./images/people2.mp4')\n",
    "while cap.isOpened(): #동영상이 열려있는 동안 작동\n",
    "    ret, frame = cap.read() #ret는 성공여부, frame은 받아온 이미지(프레임) \n",
    "    if not ret: # 받아오는 정보가 없다면\n",
    "        print('영상 종료')\n",
    "        break #종료\n",
    "    \n",
    "    resized_frame = cv2.resize(src=frame, dsize=(544, 320)) \n",
    "    transposed_frame = resized_frame.transpose(2, 0, 1)\n",
    "    input_frame = np.expand_dims(transposed_frame, 0)\n",
    "\n",
    "    person_output = person_model([input_frame])[person_output_layer]\n",
    "    canvas = DrawBoundingBoxes(person_output, frame, conf=0.5)\n",
    "    \n",
    "    cv2.imshow('person detection',canvas) #영상 출력    \n",
    "    if cv2.waitKey(60) == ord('q'): #waitKey() 안에 숫자를 조정하면 영상 재생 속도가 달라짐\n",
    "        print('사용자 입력에 의해 종료')\n",
    "        break\n",
    "    \n",
    "cap.release() #해제\n",
    "cv2.destroyAllWindows() #종료"
   ]
  },
  {
   "cell_type": "code",
   "execution_count": null,
   "id": "dcb32e4c-939c-41c4-ad98-1986554e8a80",
   "metadata": {},
   "outputs": [],
   "source": []
  }
 ],
 "metadata": {
  "kernelspec": {
   "display_name": "Python 3 (ipykernel)",
   "language": "python",
   "name": "python3"
  },
  "language_info": {
   "codemirror_mode": {
    "name": "ipython",
    "version": 3
   },
   "file_extension": ".py",
   "mimetype": "text/x-python",
   "name": "python",
   "nbconvert_exporter": "python",
   "pygments_lexer": "ipython3",
   "version": "3.11.8"
  }
 },
 "nbformat": 4,
 "nbformat_minor": 5
}
